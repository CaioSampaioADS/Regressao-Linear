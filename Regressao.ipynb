{
  "nbformat": 4,
  "nbformat_minor": 0,
  "metadata": {
    "colab": {
      "name": "Untitled2.ipynb",
      "provenance": [],
      "collapsed_sections": [],
      "authorship_tag": "ABX9TyODs8b5GnP+7keNgNvZmqE+",
      "include_colab_link": true
    },
    "kernelspec": {
      "name": "python3",
      "display_name": "Python 3"
    }
  },
  "cells": [
    {
      "cell_type": "markdown",
      "metadata": {
        "id": "view-in-github",
        "colab_type": "text"
      },
      "source": [
        "<a href=\"https://colab.research.google.com/github/CaioSampaioADS/Regressao-Linear/blob/master/Regressao.ipynb\" target=\"_parent\"><img src=\"https://colab.research.google.com/assets/colab-badge.svg\" alt=\"Open In Colab\"/></a>"
      ]
    },
    {
      "cell_type": "code",
      "metadata": {
        "id": "H8orEVEgEtbY",
        "colab_type": "code",
        "colab": {}
      },
      "source": [
        "import numpy as np\n",
        "x = np.array([1,2,3,4,5])\n",
        "y = np.array([1,2,3,4,5])"
      ],
      "execution_count": 0,
      "outputs": []
    },
    {
      "cell_type": "code",
      "metadata": {
        "id": "n6MAC6TeE7EP",
        "colab_type": "code",
        "outputId": "3b636d12-1855-42b5-91f9-480ea9d9b272",
        "colab": {
          "base_uri": "https://localhost:8080/",
          "height": 283
        }
      },
      "source": [
        "import matplotlib.pyplot as plt\n",
        "plt.scatter(x, y)"
      ],
      "execution_count": 0,
      "outputs": [
        {
          "output_type": "execute_result",
          "data": {
            "text/plain": [
              "<matplotlib.collections.PathCollection at 0x7fbb8b8b6898>"
            ]
          },
          "metadata": {
            "tags": []
          },
          "execution_count": 102
        },
        {
          "output_type": "display_data",
          "data": {
            "image/png": "[encoded data removed]",
            "text/plain": [
              "<Figure size 432x288 with 1 Axes>"
            ]
          },
          "metadata": {
            "tags": []
          }
        }
      ]
    },
    {
      "cell_type": "code",
      "metadata": {
        "id": "JGgM0iVvFE0G",
        "colab_type": "code",
        "outputId": "d220c066-1214-4912-bba4-4899812d8cd2",
        "colab": {
          "base_uri": "https://localhost:8080/",
          "height": 35
        }
      },
      "source": [
        "from random import uniform\n",
        "Ws = np.array([uniform(-1,1) for i in range(2)])\n",
        "Ws"
      ],
      "execution_count": 0,
      "outputs": [
        {
          "output_type": "execute_result",
          "data": {
            "text/plain": [
              "array([-0.17480827, -0.07380076])"
            ]
          },
          "metadata": {
            "tags": []
          },
          "execution_count": 124
        }
      ]
    },
    {
      "cell_type": "code",
      "metadata": {
        "id": "-F7bdqY7FVEN",
        "colab_type": "code",
        "colab": {}
      },
      "source": [
        "def hipotese(w0, w1, x):\n",
        "  return w0 + w1*x"
      ],
      "execution_count": 0,
      "outputs": []
    },
    {
      "cell_type": "code",
      "metadata": {
        "id": "BYqiDbXEGmLx",
        "colab_type": "code",
        "outputId": "c3902c53-d849-47fe-f752-70d1a0d7a831",
        "colab": {
          "base_uri": "https://localhost:8080/",
          "height": 283
        }
      },
      "source": [
        "plt.scatter(x, y)\n",
        "plt.plot(x, hipotese(Ws[0], Ws[1], y))"
      ],
      "execution_count": 0,
      "outputs": [
        {
          "output_type": "execute_result",
          "data": {
            "text/plain": [
              "[<matplotlib.lines.Line2D at 0x7fbb8b6d98d0>]"
            ]
          },
          "metadata": {
            "tags": []
          },
          "execution_count": 126
        },
        {
          "output_type": "display_data",
          "data": {
            "image/png": "[encoded data removed]",
            "text/plain": [
              "<Figure size 432x288 with 1 Axes>"
            ]
          },
          "metadata": {
            "tags": []
          }
        }
      ]
    },
    {
      "cell_type": "code",
      "metadata": {
        "id": "of2ee-flGxT3",
        "colab_type": "code",
        "colab": {}
      },
      "source": [
        "from math import sqrt\n",
        "def MSE(w0, w1, y, x):\n",
        "  somatoria = 0\n",
        "  somatoria = sqrt(np.sum((hipotese(Ws[0], Ws[1], x) - y)**2))\n",
        "  print(somatoria)"
      ],
      "execution_count": 0,
      "outputs": []
    },
    {
      "cell_type": "code",
      "metadata": {
        "id": "FRc45A2OIANp",
        "colab_type": "code",
        "outputId": "b21afad4-05af-48af-eec3-b954178b3eff",
        "colab": {
          "base_uri": "https://localhost:8080/",
          "height": 35
        }
      },
      "source": [
        "MSE(Ws[0], Ws[1], y, x)"
      ],
      "execution_count": 0,
      "outputs": [
        {
          "output_type": "stream",
          "text": [
            "8.31875655565312\n"
          ],
          "name": "stdout"
        }
      ]
    },
    {
      "cell_type": "code",
      "metadata": {
        "id": "vhPmm3XnIEc-",
        "colab_type": "code",
        "colab": {}
      },
      "source": [
        "def Gradiente(w0, w1, x, y, alpha=0.1, epocas=20):\n",
        "  custo = []\n",
        "  for i in range(epocas):\n",
        "    erroW0 = 0\n",
        "    erroW1 = 0\n",
        "    erroW0 = np.sum(hipotese(w0, w1,x) - y)\n",
        "    erroW1 = np.sum((hipotese(w0, w1,x) - y)*x)\n",
        "    custo.append(erroW0)\n",
        "    w0 = w0 - alpha * (1/len(x)) * erroW0\n",
        "    w1 = w1 - alpha * (1/len(x)) * erroW1\n",
        "\n",
        "  return w0, w1, custo"
      ],
      "execution_count": 0,
      "outputs": []
    },
    {
      "cell_type": "code",
      "metadata": {
        "id": "2TZeKyoWJX2N",
        "colab_type": "code",
        "colab": {}
      },
      "source": [
        "Ws[0], Ws[1], custo = Gradiente(Ws[0], Ws[1], x, y)"
      ],
      "execution_count": 0,
      "outputs": []
    },
    {
      "cell_type": "code",
      "metadata": {
        "id": "fQdB3Ql5Jbst",
        "colab_type": "code",
        "outputId": "e0d923d0-da07-41fa-9e3a-dac4dd2ce696",
        "colab": {
          "base_uri": "https://localhost:8080/",
          "height": 283
        }
      },
      "source": [
        "plt.scatter(x, y)\n",
        "plt.plot(x, hipotese(Ws[0], Ws[1], x))"
      ],
      "execution_count": 0,
      "outputs": [
        {
          "output_type": "execute_result",
          "data": {
            "text/plain": [
              "[<matplotlib.lines.Line2D at 0x7fbb8b6a85f8>]"
            ]
          },
          "metadata": {
            "tags": []
          },
          "execution_count": 131
        },
        {
          "output_type": "display_data",
          "data": {
            "image/png": "[encoded data removed]",
            "text/plain": [
              "<Figure size 432x288 with 1 Axes>"
            ]
          },
          "metadata": {
            "tags": []
          }
        }
      ]
    },
    {
      "cell_type": "code",
      "metadata": {
        "id": "PXRc2MjKMuT_",
        "colab_type": "code",
        "outputId": "0925642f-aaf6-4ca8-8791-c3c350c97d24",
        "colab": {
          "base_uri": "https://localhost:8080/",
          "height": 285
        }
      },
      "source": [
        "plt.plot([i for i in range(len(custo))], np.array(custo)**2)"
      ],
      "execution_count": 0,
      "outputs": [
        {
          "output_type": "execute_result",
          "data": {
            "text/plain": [
              "[<matplotlib.lines.Line2D at 0x7fbb8b544da0>]"
            ]
          },
          "metadata": {
            "tags": []
          },
          "execution_count": 134
        },
        {
          "output_type": "display_data",
          "data": {
            "image/png": "[encoded data removed]",
            "text/plain": [
              "<Figure size 432x288 with 1 Axes>"
            ]
          },
          "metadata": {
            "tags": []
          }
        }
      ]
    },
    {
      "cell_type": "code",
      "metadata": {
        "id": "9UXhann8PTEX",
        "colab_type": "code",
        "outputId": "3f861471-406d-4b50-f99c-6ed14712c0be",
        "colab": {
          "base_uri": "https://localhost:8080/",
          "height": 108
        }
      },
      "source": [
        "np.array(custo)**2"
      ],
      "execution_count": 0,
      "outputs": [
        {
          "output_type": "execute_result",
          "data": {
            "text/plain": [
              "array([2.88356150e+02, 1.03774326e+01, 2.29889242e-01, 3.85251616e-02,\n",
              "       5.00109790e-03, 8.44650007e-03, 7.43961337e-03, 7.31801997e-03,\n",
              "       7.04960332e-03, 6.81742664e-03, 6.58813261e-03, 6.36740762e-03,\n",
              "       6.15392339e-03, 5.94762456e-03, 5.74823651e-03, 5.55553364e-03,\n",
              "       5.36929075e-03, 5.18929146e-03, 5.01532644e-03, 4.84719340e-03])"
            ]
          },
          "metadata": {
            "tags": []
          },
          "execution_count": 137
        }
      ]
    },
    {
      "cell_type": "code",
      "metadata": {
        "id": "YtVFwNnsPjDt",
        "colab_type": "code",
        "colab": {}
      },
      "source": [
        ""
      ],
      "execution_count": 0,
      "outputs": []
    }
  ]
}